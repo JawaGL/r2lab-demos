{
 "cells": [
  {
   "cell_type": "markdown",
   "metadata": {
    "slideshow": {
     "slide_type": "slide"
    }
   },
   "source": [
    "# The `apssh` menagerie"
   ]
  },
  {
   "cell_type": "markdown",
   "metadata": {
    "slideshow": {
     "slide_type": "fragment"
    }
   },
   "source": [
    "* `SshJob`: specialized `asynciojobs` Job\n",
    "\n",
    "* `SshNode`: object needed to build an `SshJob`"
   ]
  },
  {
   "cell_type": "markdown",
   "metadata": {
    "slideshow": {
     "slide_type": "slide"
    }
   },
   "source": [
    "# `apssh` extends `asynciojobs`"
   ]
  },
  {
   "cell_type": "markdown",
   "metadata": {
    "cell_style": "split",
    "slideshow": {
     "slide_type": ""
    }
   },
   "source": [
    "![](sched+jobs.png)"
   ]
  },
  {
   "cell_type": "markdown",
   "metadata": {
    "cell_style": "split",
    "slideshow": {
     "slide_type": "fragment"
    }
   },
   "source": [
    "![](sched+sshjobs.png)"
   ]
  },
  {
   "cell_type": "markdown",
   "metadata": {
    "slideshow": {
     "slide_type": "slide"
    }
   },
   "source": [
    "My first ping"
   ]
  },
  {
   "cell_type": "code",
   "execution_count": null,
   "metadata": {
    "cell_style": "split",
    "slideshow": {
     "slide_type": "fragment"
    }
   },
   "outputs": [],
   "source": [
    "from asynciojobs import Scheduler\n",
    "from apssh import SshNode, SshJob\n",
    "\n",
    "gateway = SshNode(\n",
    "    'faraday.inria.fr',\n",
    "    username='inria_school'\n",
    ")"
   ]
  },
  {
   "cell_type": "code",
   "execution_count": null,
   "metadata": {
    "cell_style": "split",
    "slideshow": {
     "slide_type": "fragment"
    }
   },
   "outputs": [],
   "source": [
    "s = Scheduler()\n",
    "\n",
    "simplest_ping = SshJob(\n",
    "    node = gateway,\n",
    "    command = 'ping -c 4 google.com',\n",
    "    scheduler = s,\n",
    ")"
   ]
  },
  {
   "cell_type": "code",
   "execution_count": null,
   "metadata": {
    "slideshow": {
     "slide_type": "fragment"
    }
   },
   "outputs": [],
   "source": [
    "s.graph()"
   ]
  },
  {
   "cell_type": "markdown",
   "metadata": {
    "slideshow": {
     "slide_type": "slide"
    }
   },
   "source": [
    "À ce stade on n'a pas créé de connexion"
   ]
  },
  {
   "cell_type": "code",
   "execution_count": null,
   "metadata": {
    "slideshow": {
     "slide_type": "fragment"
    }
   },
   "outputs": [],
   "source": [
    "s.run()"
   ]
  },
  {
   "cell_type": "markdown",
   "metadata": {
    "cell_style": "center",
    "slideshow": {
     "slide_type": "slide"
    }
   },
   "source": [
    "# digression : load image on all nodes "
   ]
  },
  {
   "cell_type": "markdown",
   "metadata": {
    "cell_style": "split"
   },
   "source": [
    "We can do this manually of course :\n",
    "\n",
    "```\n",
    "ssh inria_school@faraday.inria.fr\n",
    "\n",
    "rhubarbe load --all --image ubuntu --curses\n",
    "\n",
    "rhubarbe load -a -i ubuntu -c\n",
    "\n",
    "```"
   ]
  },
  {
   "cell_type": "markdown",
   "metadata": {
    "cell_style": "split"
   },
   "source": [
    "Then to wait for the nodes to reboot\n",
    "```\n",
    "rhubarbe wait -a -c\n",
    "\n",
    "```"
   ]
  },
  {
   "cell_type": "markdown",
   "metadata": {
    "slideshow": {
     "slide_type": "slide"
    }
   },
   "source": [
    "# multi-hop ssh"
   ]
  },
  {
   "cell_type": "markdown",
   "metadata": {
    "cell_style": "split"
   },
   "source": [
    "Now that the nodes are turned on:\n",
    "\n",
    "* how to run stuff on nodes through the gateway\n",
    "* since they have no public IP"
   ]
  },
  {
   "cell_type": "markdown",
   "metadata": {
    "cell_style": "split",
    "slideshow": {
     "slide_type": "fragment"
    }
   },
   "source": [
    "For that purpose:\n",
    "\n",
    "* we create a `SshNode`\n",
    "* with a `gateway` attribute\n",
    "* that itself is a `SshNode`\n"
   ]
  },
  {
   "cell_type": "code",
   "execution_count": null,
   "metadata": {
    "cell_style": "split"
   },
   "outputs": [],
   "source": [
    "n10 = SshNode(\n",
    "    'fit10',\n",
    "    username='root',\n",
    "    gateway=gateway,\n",
    ")"
   ]
  },
  {
   "cell_type": "code",
   "execution_count": null,
   "metadata": {
    "cell_style": "split"
   },
   "outputs": [],
   "source": [
    "s = Scheduler()\n",
    "\n",
    "SshJob(\n",
    "    node = n10,\n",
    "    command = \"hostname\",\n",
    "    scheduler = s,\n",
    ")"
   ]
  },
  {
   "cell_type": "code",
   "execution_count": null,
   "metadata": {},
   "outputs": [],
   "source": [
    "s.run()"
   ]
  },
  {
   "cell_type": "markdown",
   "metadata": {
    "slideshow": {
     "slide_type": "slide"
    }
   },
   "source": [
    "# `apssh` menagerie - commands"
   ]
  },
  {
   "cell_type": "markdown",
   "metadata": {
    "slideshow": {
     "slide_type": ""
    }
   },
   "source": [
    "Commands can be defined in many different - equivalent - forms"
   ]
  },
  {
   "cell_type": "markdown",
   "metadata": {
    "cell_style": "split",
    "slideshow": {
     "slide_type": ""
    }
   },
   "source": [
    "    SshJob(command = \"hostname\", ...)\n",
    "    SshJob(commands = \"hostname\", ...)\n",
    "    SshJob(commands = [\"hostname\"], ...)"
   ]
  },
  {
   "cell_type": "code",
   "execution_count": null,
   "metadata": {
    "cell_style": "split"
   },
   "outputs": [],
   "source": [
    "from apssh import Run"
   ]
  },
  {
   "cell_type": "markdown",
   "metadata": {
    "cell_style": "split",
    "slideshow": {
     "slide_type": ""
    }
   },
   "source": [
    "    SshJob(commands = [Run(\"hostname\")], ...)"
   ]
  },
  {
   "cell_type": "markdown",
   "metadata": {
    "slideshow": {
     "slide_type": "slide"
    }
   },
   "source": [
    "It is recommended to use `Run`"
   ]
  },
  {
   "cell_type": "code",
   "execution_count": null,
   "metadata": {
    "cell_style": "split"
   },
   "outputs": [],
   "source": [
    "s = Scheduler()\n",
    "\n",
    "SshJob(\n",
    "    node = n10,\n",
    "    commands = [Run(\"hostname\")],\n",
    "    scheduler = s,\n",
    ")"
   ]
  },
  {
   "cell_type": "code",
   "execution_count": null,
   "metadata": {
    "cell_style": "split"
   },
   "outputs": [],
   "source": [
    "s.run()"
   ]
  },
  {
   "cell_type": "markdown",
   "metadata": {
    "cell_style": "center",
    "slideshow": {
     "slide_type": "slide"
    }
   },
   "source": [
    "# Run local scripts remotely"
   ]
  },
  {
   "cell_type": "markdown",
   "metadata": {},
   "source": [
    "It can be helpful to have local scripts - e.g. in your git repo - that you want to run remotely:"
   ]
  },
  {
   "cell_type": "code",
   "execution_count": null,
   "metadata": {
    "cell_style": "split"
   },
   "outputs": [],
   "source": [
    "# let us assume we have a local script\n",
    "!cat node-tools.sh"
   ]
  },
  {
   "cell_type": "code",
   "execution_count": null,
   "metadata": {
    "cell_style": "split"
   },
   "outputs": [],
   "source": [
    "from apssh import RunScript\n",
    "s = Scheduler()\n",
    "\n",
    "SshJob(\n",
    "    node = n10,\n",
    "    commands = [RunScript(\"node-tools.sh\",\n",
    "                          \"init-ad-hoc-network\",\n",
    "                          \"intel\",\n",
    "                          \"foobar\",\n",
    "                         )],\n",
    "    scheduler = s,\n",
    ")\n",
    "\n",
    "s.run()"
   ]
  },
  {
   "cell_type": "markdown",
   "metadata": {
    "cell_style": "center",
    "slideshow": {
     "slide_type": "slide"
    }
   },
   "source": [
    "# Run local scripts remotely - 2 "
   ]
  },
  {
   "cell_type": "markdown",
   "metadata": {
    "slideshow": {
     "slide_type": ""
    }
   },
   "source": [
    "The `RunString` class is similar to `RunScript`\n",
    "* but uses a python string as the source\n",
    "* instead of a local file"
   ]
  },
  {
   "cell_type": "markdown",
   "metadata": {
    "slideshow": {
     "slide_type": "slide"
    }
   },
   "source": [
    "# File transfers"
   ]
  },
  {
   "cell_type": "markdown",
   "metadata": {},
   "source": [
    "The `Push` and `Pull` classes can be used as commands."
   ]
  },
  {
   "cell_type": "code",
   "execution_count": null,
   "metadata": {
    "cell_style": "split"
   },
   "outputs": [],
   "source": [
    "from apssh import Pull\n",
    "\n",
    "s = Scheduler()\n",
    "\n",
    "SshJob(\n",
    "    node = n10,\n",
    "    commands = [ \n",
    "        Run(\"echo $(hostname) at $(date) > HOSTNAME\"),\n",
    "        Pull(\"HOSTNAME\", \"fit10-hostname\"),\n",
    "    ],\n",
    "    scheduler = s,\n",
    ")\n",
    "\n",
    "s.run()"
   ]
  },
  {
   "cell_type": "code",
   "execution_count": null,
   "metadata": {
    "cell_style": "split"
   },
   "outputs": [],
   "source": [
    "!cat fit10-hostname"
   ]
  },
  {
   "cell_type": "markdown",
   "metadata": {
    "slideshow": {
     "slide_type": "slide"
    }
   },
   "source": [
    "# Formatting"
   ]
  },
  {
   "cell_type": "markdown",
   "metadata": {
    "slideshow": {
     "slide_type": ""
    }
   },
   "source": [
    "Each `SshNode` has a formatter instance attached\n",
    "\n",
    "* this allows to customize all outputs (mention hostname or not, add timestamp, etc..)\n",
    "* also useful to capture output (like in shell's `$(ssh host command)`)\n",
    "  * see [CaptureFormatter](http://apssh.readthedocs.io/en/latest/API.html?highlight=capture#apssh.formatters.CaptureFormatter)_"
   ]
  },
  {
   "cell_type": "markdown",
   "metadata": {
    "cell_style": "center",
    "slideshow": {
     "slide_type": "slide"
    }
   },
   "source": [
    "# Imaging "
   ]
  },
  {
   "cell_type": "code",
   "execution_count": null,
   "metadata": {
    "cell_style": "center"
   },
   "outputs": [],
   "source": [
    "# programmatively load images on nodes\n",
    "\n",
    "nodes = 10, 12\n",
    "\n",
    "s = Scheduler()\n",
    "SshJob( \n",
    "    node = gateway, \n",
    "    commands = [\n",
    "        Run(\"rhubarbe load -i fedora\", *nodes),\n",
    "        Run(\"rhubarbe wait\", *nodes),\n",
    "    ],\n",
    "    scheduler = s,\n",
    ")\n",
    "\n",
    "s.run()\n"
   ]
  }
 ],
 "metadata": {
  "celltoolbar": "Slideshow",
  "kernelspec": {
   "display_name": "Python 3",
   "language": "python",
   "name": "python3"
  },
  "language_info": {
   "codemirror_mode": {
    "name": "ipython",
    "version": 3
   },
   "file_extension": ".py",
   "mimetype": "text/x-python",
   "name": "python",
   "nbconvert_exporter": "python",
   "pygments_lexer": "ipython3",
   "version": "3.6.4"
  }
 },
 "nbformat": 4,
 "nbformat_minor": 2
}
