{
 "cells": [
  {
   "cell_type": "markdown",
   "metadata": {
    "cell_style": "center"
   },
   "source": [
    "# R2lab 102 - Summary from last time"
   ]
  },
  {
   "cell_type": "markdown",
   "metadata": {
    "cell_style": "split",
    "slideshow": {
     "slide_type": "fragment"
    }
   },
   "source": [
    "website <https://r2lab.inria.fr>\n",
    "  * [run page](https://r2lab.inria.fr/run.md)\n",
    "  * [nodes details](https://r2lab.inria.fr/hardware.md#details)\n",
    "  * [tutos page](https://r2lab.inria.fr/tutorial.md)"
   ]
  },
  {
   "cell_type": "markdown",
   "metadata": {
    "cell_style": "split",
    "slideshow": {
     "slide_type": "fragment"
    }
   },
   "source": [
    "extra resources\n",
    "\n",
    "* the [demos github repo](https://github.com/fit-r2lab/r2lab-demos)\n",
    "* specifically [the present slides](https://github.com/fit-r2lab/r2lab-demos/tree/master/school) \n",
    "  * in the `school` subdir"
   ]
  },
  {
   "cell_type": "markdown",
   "metadata": {
    "cell_style": "center",
    "slideshow": {
     "slide_type": "slide"
    }
   },
   "source": [
    "`inria_school` is our common slice\n",
    "\n",
    "has everyone an account ?\n",
    "\n",
    "```\n",
    "ssh inria_school@faraday.inria.fr\n",
    "```\n",
    "    "
   ]
  },
  {
   "cell_type": "markdown",
   "metadata": {
    "cell_style": "center",
    "slideshow": {
     "slide_type": "slide"
    }
   },
   "source": [
    "# Ways to control the testbed (1)"
   ]
  },
  {
   "cell_type": "markdown",
   "metadata": {
    "cell_style": "center",
    "slideshow": {
     "slide_type": ""
    }
   },
   "source": [
    "The `rhubarbe` tool ([on github](https://github.com/parmentelat/rhubarbe)) : invoked **from faraday** for"
   ]
  },
  {
   "cell_type": "markdown",
   "metadata": {
    "cell_style": "center",
    "slideshow": {
     "slide_type": ""
    }
   },
   "source": [
    "* `load` loading \n",
    "* `save` and saving images,\n",
    "* `images` list available images\n",
    "* `wait` wait for nodes to come up\n",
    "* `status`, `reset` `on` `off` probe node status, reset, turn on or off\n",
    "* `bye` turn off when you leave\n",
    "* `leases` see and check leases"
   ]
  },
  {
   "cell_type": "markdown",
   "metadata": {
    "cell_style": "center",
    "slideshow": {
     "slide_type": ""
    }
   },
   "source": [
    "* example session - watch [on the RUN page](https://r2lab.inria.fr/run.md)"
   ]
  },
  {
   "cell_type": "markdown",
   "metadata": {
    "cell_style": "center",
    "slideshow": {
     "slide_type": "slide"
    }
   },
   "source": [
    "# Ways to control the testbed (2)"
   ]
  },
  {
   "cell_type": "markdown",
   "metadata": {
    "cell_style": "center"
   },
   "source": [
    "Some shell convenience tools available:"
   ]
  },
  {
   "cell_type": "markdown",
   "metadata": {
    "cell_style": "split"
   },
   "source": [
    "**on faraday**<br/>\n",
    "selection & shortcuts around rhubarbe\n",
    "\n",
    "**on nodes**<br/>\n",
    "as part of the base images"
   ]
  },
  {
   "cell_type": "markdown",
   "metadata": {
    "cell_style": "split"
   },
   "source": [
    "on faraday<br/>\n",
    "`/etc/profile.d/faraday.sh`\n",
    " \n",
    "on nodes<br/>\n",
    "`/etc/profile.d/nodes.sh`"
   ]
  },
  {
   "cell_type": "markdown",
   "metadata": {},
   "source": [
    "All this stuff in a separate git repo <https://github.com/fit-r2lab/r2lab-embedded>"
   ]
  },
  {
   "cell_type": "markdown",
   "metadata": {
    "cell_style": "center",
    "slideshow": {
     "slide_type": "slide"
    }
   },
   "source": [
    "# Ways to control the testbed (3)"
   ]
  },
  {
   "cell_type": "markdown",
   "metadata": {},
   "source": [
    "`nepi-ng` = `asynciojobs` + `apssh` \n",
    "\n",
    "Designed to let you\n",
    "* put everything together, \n",
    "* and control / orchestrate **everything from your laptop**\n",
    "\n",
    "your nepi-script is the single entry-point."
   ]
  },
  {
   "cell_type": "markdown",
   "metadata": {
    "cell_style": "center",
    "slideshow": {
     "slide_type": "slide"
    }
   },
   "source": [
    "# Images management (1)"
   ]
  },
  {
   "cell_type": "markdown",
   "metadata": {
    "cell_style": "center"
   },
   "source": [
    "* `rhubarbe images` lets you see the available images \n",
    "* logical names - like `ubuntu` or `fedora` or `gnuradio` \n",
    "* and physical names - like `u16.48-gnuradio-3.7.10-uhd-images`\n",
    "* logical names are only aliases to physical names "
   ]
  },
  {
   "cell_type": "code",
   "execution_count": 3,
   "metadata": {
    "cell_style": "center",
    "slideshow": {
     "slide_type": "slide"
    }
   },
   "outputs": [
    {
     "name": "stdout",
     "output_type": "stream",
     "text": [
      "==================== Images repository /var/lib/rhubarbe-images\n",
      "==== use with --verbose to see images without a symlink\n",
      "==== images matching any of gnuradio\n",
      "2015-06-17 19:17       2.335 GB gnuradio-ubuntu-14.10-ext4              \n",
      "                         a.k.a. gnuradio-ubuntu-14.10                   \n",
      "2018-02-27 14:30       3.153 GB u14-48-gnuradio-3.7.11.1                \n",
      "                         a.k.a. gnuradio                                \n"
     ]
    }
   ],
   "source": [
    "!ssh inria_school@faraday.inria.fr rhubarbe images gnuradio"
   ]
  },
  {
   "cell_type": "code",
   "execution_count": 4,
   "metadata": {
    "cell_style": "center",
    "slideshow": {
     "slide_type": "slide"
    }
   },
   "outputs": [
    {
     "name": "stdout",
     "output_type": "stream",
     "text": [
      "==================== Images repository /var/lib/rhubarbe-images\n",
      "==== images matching any of gnuradio\n",
      "2015-06-09 17:20     801.000 MB gnuradio-fedora-21                      \n",
      "2015-06-12 12:38       1.042 GB gnuradio-ubuntu-15.04                   \n",
      "2018-02-19 21:09       1.411 GB u16.48-gnuradio-3.7.10-2018-02-19       \n",
      "2018-02-22 10:52       1.413 GB u16.48-gnuradio-3.7.10-xterm            \n",
      "2018-02-22 11:21       1.440 GB u16.48-gnuradio-3.7.10-uhd-images       \n",
      "2016-04-21 15:56       1.542 GB gnuradio-scrambler                      \n",
      "2017-10-26 15:34       1.581 GB u16.48-gnuradio-3.7.10                  \n",
      "2015-06-17 19:17       2.335 GB gnuradio-ubuntu-14.10-ext4              \n",
      "                         a.k.a. gnuradio-ubuntu-14.10                   \n",
      "2016-11-07 18:08       2.631 GB ubuntu-16.04-gnuradio-3.7.10.1-update3  \n",
      "2016-11-06 11:28       2.631 GB ubuntu-16.04-gnuradio-3.7.10.1-update2  \n",
      "2016-11-06 10:48       2.631 GB ubuntu-16.04-gnuradio-3.7.10.1-update   \n",
      "2016-11-08 11:06       2.631 GB ubuntu-16.04-gnuradio-3.7.10.1-update4  \n",
      "2017-01-04 12:18       2.742 GB gnuradio-v11-os-update                  \n",
      "2016-11-14 00:10       2.757 GB ubuntu-16.04-gnuradio-3.7.10.1-v5-user-env\n",
      "2017-08-16 14:35       2.768 GB gnuradio-v12-os-update                  \n",
      "2016-12-07 15:35       2.820 GB ubuntu-16.04-gnuradio-3.7.10.1-v10-wireless-names\n",
      "2016-11-17 19:19       2.888 GB ubuntu-16.04-gnuradio-3.7.10.1-v8-wireless-names\n",
      "2016-11-18 11:31       2.905 GB ubuntu-16.04-gnuradio-3.7.10.1-v9-node-keys\n",
      "2018-02-27 14:30       3.153 GB u14-48-gnuradio-3.7.11.1                \n",
      "                         a.k.a. gnuradio                                \n",
      "2016-06-17 15:13       3.425 GB gnuradio-3.7.9.2-uhd-3.10-ubuntu        \n"
     ]
    }
   ],
   "source": [
    "!ssh inria_school@faraday.inria.fr rhubarbe images gnuradio -v"
   ]
  },
  {
   "cell_type": "markdown",
   "metadata": {
    "cell_style": "center",
    "slideshow": {
     "slide_type": "slide"
    }
   },
   "source": [
    "# Images management (2)"
   ]
  },
  {
   "cell_type": "markdown",
   "metadata": {
    "cell_style": "center",
    "slideshow": {
     "slide_type": ""
    }
   },
   "source": [
    "* `rhubarbe save --help`\n",
    "  * lets you create a new image\n",
    "  * based on one node of course\n",
    "  * mandatory : `-o physicalname`"
   ]
  },
  {
   "cell_type": "markdown",
   "metadata": {
    "cell_style": "center",
    "slideshow": {
     "slide_type": "fragment"
    }
   },
   "source": [
    "*visibility / sharing*:\n",
    "\n",
    "* saved images are visible by the slice only\n",
    "* can be exposed to the public with `rhubarbe share`\n"
   ]
  },
  {
   "cell_type": "markdown",
   "metadata": {
    "cell_style": "center",
    "slideshow": {
     "slide_type": "slide"
    }
   },
   "source": [
    "# Images management (3)"
   ]
  },
  {
   "cell_type": "markdown",
   "metadata": {},
   "source": [
    "Mainly we offer:\n",
    "\n",
    "* `ubuntu` : basic, the default; only the LTS versions \n",
    "* `fedora` : same with fedora; primarily the odd versions \n",
    "* `gnuradio` \n",
    "* `oai-enb` and `oai-cn`\n",
    "  * based on OpenAirInterface, \n",
    "  * for eNodeB and core-network respectively"
   ]
  },
  {
   "cell_type": "markdown",
   "metadata": {
    "slideshow": {
     "slide_type": "slide"
    }
   },
   "source": [
    "# Images invariants :  Interface names"
   ]
  },
  {
   "cell_type": "markdown",
   "metadata": {
    "cell_style": "split"
   },
   "source": [
    "Wired interface names:\n",
    "\n",
    "* `control` : turned on (for ssh)\n",
    "* `data` : **not** turned on <br/>\n",
    "  your choice - DHCP-ready\n",
    "\n",
    "* **warning** nodes with SDR devices `n210` and `usrp2` cannot use the `data` interface"
   ]
  },
  {
   "cell_type": "markdown",
   "metadata": {
    "cell_style": "split",
    "slideshow": {
     "slide_type": "fragment"
    }
   },
   "source": [
    "WiFi interface names:\n",
    "\n",
    "* `atheros`\n",
    "* `intel`\n",
    "  * none is turned on, your resp. again"
   ]
  }
 ],
 "metadata": {
  "celltoolbar": "Slideshow",
  "kernelspec": {
   "display_name": "Python 3",
   "language": "python",
   "name": "python3"
  },
  "language_info": {
   "codemirror_mode": {
    "name": "ipython",
    "version": 3
   },
   "file_extension": ".py",
   "mimetype": "text/x-python",
   "name": "python",
   "nbconvert_exporter": "python",
   "pygments_lexer": "ipython3",
   "version": "3.6.4"
  }
 },
 "nbformat": 4,
 "nbformat_minor": 2
}
