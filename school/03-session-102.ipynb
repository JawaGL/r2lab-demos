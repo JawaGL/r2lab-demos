{
 "cells": [
  {
   "cell_type": "markdown",
   "metadata": {
    "cell_style": "center"
   },
   "source": [
    "# R2lab 102 - Summary from last time"
   ]
  },
  {
   "cell_type": "markdown",
   "metadata": {
    "cell_style": "split",
    "slideshow": {
     "slide_type": "fragment"
    }
   },
   "source": [
    "website <https://r2lab.inria.fr>\n",
    "  * [run page](https://r2lab.inria.fr/run.md)\n",
    "  * [nodes details](https://r2lab.inria.fr/hardware.md#details)\n",
    "  * [tutos page](https://r2lab.inria.fr/tutorial.md)"
   ]
  },
  {
   "cell_type": "markdown",
   "metadata": {
    "cell_style": "split",
    "slideshow": {
     "slide_type": "fragment"
    }
   },
   "source": [
    "extra resources\n",
    "\n",
    "* the [demos github repo](https://github.com/fit-r2lab/r2lab-demos)\n",
    "* specifically [the present slides](https://github.com/fit-r2lab/r2lab-demos/tree/master/school) \n",
    "  * in the `school` subdir"
   ]
  },
  {
   "cell_type": "markdown",
   "metadata": {
    "cell_style": "center",
    "slideshow": {
     "slide_type": "slide"
    }
   },
   "source": [
    "`inria_school` is our common slice\n",
    "\n",
    "has everyone an account ?\n",
    "\n",
    "```\n",
    "ssh inria_school@faraday.inria.fr\n",
    "```\n",
    "    "
   ]
  },
  {
   "cell_type": "markdown",
   "metadata": {
    "cell_style": "center",
    "slideshow": {
     "slide_type": "slide"
    }
   },
   "source": [
    "# Ways to control the testbed (1)"
   ]
  },
  {
   "cell_type": "markdown",
   "metadata": {
    "cell_style": "center",
    "slideshow": {
     "slide_type": ""
    }
   },
   "source": [
    "The `rhubarbe` tool ([on github](https://github.com/parmentelat/rhubarbe)) : invoked **from faraday** for"
   ]
  },
  {
   "cell_type": "markdown",
   "metadata": {
    "cell_style": "center",
    "slideshow": {
     "slide_type": ""
    }
   },
   "source": [
    "* `load` loading \n",
    "* `save` and saving images,\n",
    "* `images` list available images\n",
    "* `wait` wait for nodes to come up\n",
    "* `status`, `reset` `on` `off` probe node status, reset, turn on or off\n",
    "* `bye` turn off when you leave\n",
    "* `leases` see and check leases"
   ]
  },
  {
   "cell_type": "markdown",
   "metadata": {
    "cell_style": "center",
    "slideshow": {
     "slide_type": ""
    }
   },
   "source": [
    "* example session - watch [on the RUN page](https://r2lab.inria.fr/run.md)"
   ]
  },
  {
   "cell_type": "markdown",
   "metadata": {
    "cell_style": "center",
    "slideshow": {
     "slide_type": "slide"
    }
   },
   "source": [
    "# Ways to control the testbed (2)"
   ]
  },
  {
   "cell_type": "markdown",
   "metadata": {
    "cell_style": "center"
   },
   "source": [
    "Some shell convenience tools available:"
   ]
  },
  {
   "cell_type": "markdown",
   "metadata": {
    "cell_style": "split"
   },
   "source": [
    "**on faraday**<br/>\n",
    "selection & shortcuts around rhubarbe\n",
    "\n",
    "**on nodes**<br/>\n",
    "as part of the base images"
   ]
  },
  {
   "cell_type": "markdown",
   "metadata": {
    "cell_style": "split"
   },
   "source": [
    "on faraday<br/>\n",
    "`/etc/profile.d/faraday.sh`\n",
    " \n",
    "on nodes<br/>\n",
    "`/etc/profile.d/nodes.sh`"
   ]
  },
  {
   "cell_type": "markdown",
   "metadata": {},
   "source": [
    "All this stuff in a separate git repo <https://github.com/fit-r2lab/r2lab-embedded>"
   ]
  },
  {
   "cell_type": "markdown",
   "metadata": {
    "cell_style": "center",
    "slideshow": {
     "slide_type": "slide"
    }
   },
   "source": [
    "# Ways to control the testbed (3)"
   ]
  },
  {
   "cell_type": "markdown",
   "metadata": {},
   "source": [
    "`nepi-ng` = `asynciojobs` + `apssh` \n",
    "\n",
    "Designed to let you\n",
    "* put everything together, \n",
    "* and control / orchestrate **everything from your laptop**\n",
    "\n",
    "your nepi-script is the single entry-point."
   ]
  },
  {
   "cell_type": "markdown",
   "metadata": {
    "cell_style": "center",
    "slideshow": {
     "slide_type": "slide"
    }
   },
   "source": [
    "# Images management (1)"
   ]
  },
  {
   "cell_type": "markdown",
   "metadata": {
    "cell_style": "center"
   },
   "source": [
    "* `rhubarbe images` lets you see the available images \n",
    "* logical names - like `ubuntu` or `fedora` or `gnuradio` \n",
    "* and physical names - like `u16.48-gnuradio-3.7.10-uhd-images`\n",
    "* logical names are only aliases to physical names "
   ]
  },
  {
   "cell_type": "code",
   "execution_count": null,
   "metadata": {
    "cell_style": "center",
    "slideshow": {
     "slide_type": "slide"
    }
   },
   "outputs": [],
   "source": [
    "!ssh inria_school@faraday.inria.fr rhubarbe images gnuradio"
   ]
  },
  {
   "cell_type": "code",
   "execution_count": null,
   "metadata": {
    "cell_style": "center",
    "slideshow": {
     "slide_type": "slide"
    }
   },
   "outputs": [],
   "source": [
    "!ssh inria_school@faraday.inria.fr rhubarbe images gnuradio -v"
   ]
  },
  {
   "cell_type": "markdown",
   "metadata": {
    "cell_style": "center",
    "slideshow": {
     "slide_type": "slide"
    }
   },
   "source": [
    "# Images management (2)"
   ]
  },
  {
   "cell_type": "markdown",
   "metadata": {
    "cell_style": "center",
    "slideshow": {
     "slide_type": ""
    }
   },
   "source": [
    "* `rhubarbe save --help`\n",
    "  * lets you create a new image\n",
    "  * based on one node of course\n",
    "  * mandatory : `-o physicalname`"
   ]
  },
  {
   "cell_type": "markdown",
   "metadata": {
    "cell_style": "center",
    "slideshow": {
     "slide_type": "fragment"
    }
   },
   "source": [
    "*visibility / sharing*:\n",
    "\n",
    "* saved images are visible by the slice only\n",
    "* can be exposed to the public with `rhubarbe share`\n"
   ]
  },
  {
   "cell_type": "markdown",
   "metadata": {
    "cell_style": "center",
    "slideshow": {
     "slide_type": "slide"
    }
   },
   "source": [
    "# Images management (3)"
   ]
  },
  {
   "cell_type": "markdown",
   "metadata": {},
   "source": [
    "Mainly we offer:\n",
    "\n",
    "* `ubuntu` : basic, the default; only the LTS versions \n",
    "* `fedora` : same with fedora; primarily the odd versions \n",
    "* `gnuradio` \n",
    "* `oai-enb` and `oai-cn`\n",
    "  * based on OpenAirInterface, \n",
    "  * for eNodeB and core-network respectively"
   ]
  },
  {
   "cell_type": "markdown",
   "metadata": {
    "slideshow": {
     "slide_type": "slide"
    }
   },
   "source": [
    "# Images invariants :  Interface names"
   ]
  },
  {
   "cell_type": "markdown",
   "metadata": {
    "cell_style": "split"
   },
   "source": [
    "Wired interface names:\n",
    "\n",
    "* `control` : turned on (for ssh)\n",
    "* `data` : **not** turned on <br/>\n",
    "  your choice - DHCP-ready\n",
    "\n",
    "* **warning** nodes with SDR devices `n210` and `usrp2` cannot use the `data` interface"
   ]
  },
  {
   "cell_type": "markdown",
   "metadata": {
    "cell_style": "split",
    "slideshow": {
     "slide_type": "fragment"
    }
   },
   "source": [
    "WiFi interface names:\n",
    "\n",
    "* `atheros`\n",
    "* `intel`\n",
    "  * none is turned on, your resp. again"
   ]
  },
  {
   "cell_type": "markdown",
   "metadata": {
    "slideshow": {
     "slide_type": "slide"
    }
   },
   "source": [
    "# <https://r2lab.inria.fr/tutorial.md>\n",
    "\n",
    "* progressive / incremental approach"
   ]
  },
  {
   "cell_type": "markdown",
   "metadata": {
    "slideshow": {
     "slide_type": "slide"
    }
   },
   "source": [
    "# Today's program\n",
    "\n",
    "* one couple of nodes for each person/group (max 18)\n",
    "\n",
    "* newcomers should run the [tutorials from beginning : **Series-A**](https://r2lab.inria.fr/tuto-040-A-ping.md)\n",
    "* participants to tuesday's session: start with [**tuto A4**](https://r2lab.inria.fr/tuto-040-A-ping.md#A4) and proceed to **Series-B**]"
   ]
  },
  {
   "cell_type": "markdown",
   "metadata": {
    "slideshow": {
     "slide_type": "fragment"
    }
   },
   "source": [
    "Please remember to tweak the downloaded scripts for:\n",
    "\n",
    "* the slicename : `inria_school`\n",
    "* **the node numbers** appropriately"
   ]
  },
  {
   "cell_type": "markdown",
   "metadata": {
    "slideshow": {
     "slide_type": "slide"
    }
   },
   "source": [
    "# Warning"
   ]
  },
  {
   "cell_type": "markdown",
   "metadata": {},
   "source": [
    "* All scripts designed for single user mode\n",
    "  * may need changes when run in parallel on many nodes"
   ]
  },
  {
   "cell_type": "markdown",
   "metadata": {
    "slideshow": {
     "slide_type": "fragment"
    }
   },
   "source": [
    "# Suggestions for variants"
   ]
  },
  {
   "cell_type": "markdown",
   "metadata": {},
   "source": [
    "* Run in a notebook (classic notebook recommended, not jupyter lab)\n",
    "* Add command-line options to select nodes\n",
    "* B4 : set up the wifi network in Infrastructure Mode - as an AccessPoint\n",
    "  * use as SSID something like `ssid04` if your AP runs on `fit04`"
   ]
  }
 ],
 "metadata": {
  "celltoolbar": "Slideshow",
  "kernelspec": {
   "display_name": "Python 3",
   "language": "python",
   "name": "python3"
  },
  "language_info": {
   "codemirror_mode": {
    "name": "ipython",
    "version": 3
   },
   "file_extension": ".py",
   "mimetype": "text/x-python",
   "name": "python",
   "nbconvert_exporter": "python",
   "pygments_lexer": "ipython3",
   "version": "3.6.4"
  }
 },
 "nbformat": 4,
 "nbformat_minor": 2
}
