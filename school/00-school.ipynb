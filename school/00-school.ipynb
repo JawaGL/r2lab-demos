{
 "cells": [
  {
   "cell_type": "markdown",
   "metadata": {
    "slideshow": {
     "slide_type": "slide"
    }
   },
   "source": [
    "# r2lab 101"
   ]
  },
  {
   "cell_type": "markdown",
   "metadata": {},
   "source": [
    "### Ressources of interest\n",
    "\n",
    "* R2lab's demos github <br/>\n",
    "  <https://github.com/fit-r2lab/r2lab-demos/>"
   ]
  },
  {
   "cell_type": "markdown",
   "metadata": {
    "slideshow": {
     "slide_type": "slide"
    }
   },
   "source": [
    "# r2lab 101"
   ]
  },
  {
   "cell_type": "markdown",
   "metadata": {},
   "source": [
    "* [basics of `asynciojobs`](asynciojobs-slideshow.ipynb)\n",
    "\n",
    "* [registration / slices](https://r2lab.inria.fr/school.md)\n",
    "\n",
    "  * [slice management board](https://r2labapi.inria.fr/db/slices/index.php?id=51&show_nodes=1&show_nodes_current=1&show_nodes_add=1)\n",
    "\n",
    "* [asynciojobs + apssh = nepi-ng](https://r2lab.inria.fr/tutorial.md)"
   ]
  }
 ],
 "metadata": {
  "celltoolbar": "Slideshow",
  "kernelspec": {
   "display_name": "Python 3",
   "language": "python",
   "name": "python3"
  },
  "language_info": {
   "codemirror_mode": {
    "name": "ipython",
    "version": 3
   },
   "file_extension": ".py",
   "mimetype": "text/x-python",
   "name": "python",
   "nbconvert_exporter": "python",
   "pygments_lexer": "ipython3",
   "version": "3.6.4"
  }
 },
 "nbformat": 4,
 "nbformat_minor": 2
}
