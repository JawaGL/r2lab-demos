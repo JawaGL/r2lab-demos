{
 "cells": [
  {
   "cell_type": "markdown",
   "metadata": {
    "slideshow": {
     "slide_type": "slide"
    }
   },
   "source": [
    "# This is a notebook and a slideshow\n",
    "\n",
    "Use RISE to run this notebook as a slideshow\n",
    "    \n",
    "<http://rise.readthedocs.io>\n",
    "\n",
    "![](rise-icon.png)"
   ]
  },
  {
   "cell_type": "markdown",
   "metadata": {
    "slideshow": {
     "slide_type": "slide"
    }
   },
   "source": [
    "# r2lab 101"
   ]
  },
  {
   "cell_type": "markdown",
   "metadata": {},
   "source": [
    "### Ressources of interest"
   ]
  },
  {
   "cell_type": "markdown",
   "metadata": {},
   "source": [
    "Present slides : R2lab's demos github <br/>\n",
    "  <https://github.com/fit-r2lab/r2lab-demos/>\n",
    "  <br/> and specifically the `school` subdir"
   ]
  },
  {
   "cell_type": "markdown",
   "metadata": {
    "cell_style": "split"
   },
   "source": [
    "r2lab's website <br/>\n",
    "  <https://r2lab.inria.fr/> \n",
    "  <br/> and specifically the `TUTOS` page"
   ]
  },
  {
   "cell_type": "markdown",
   "metadata": {
    "cell_style": "split"
   },
   "source": [
    "r2lab's registration site <br/>\n",
    "  <https://r2labapi.inria.fr/> \n",
    "  <br/> and specifically *Create an account*"
   ]
  },
  {
   "cell_type": "markdown",
   "metadata": {
    "slideshow": {
     "slide_type": "slide"
    }
   },
   "source": [
    "# r2lab 101"
   ]
  },
  {
   "cell_type": "markdown",
   "metadata": {},
   "source": [
    "* slideshow / [basics of `asynciojobs`](01-asynciojobs-slideshow.ipynb)\n",
    "\n",
    "* registration / slices <https://r2lab.inria.fr/school.md>\n",
    "\n",
    "* slideshow / [basics of `apssh`](02-apssh-slideshow.ipynb)\n",
    "\n",
    "* R2lab tutorial : [asynciojobs + apssh = nepi-ng](https://r2lab.inria.fr/tutorial.md)"
   ]
  }
 ],
 "metadata": {
  "celltoolbar": "Slideshow",
  "kernelspec": {
   "display_name": "Python 3",
   "language": "python",
   "name": "python3"
  },
  "language_info": {
   "codemirror_mode": {
    "name": "ipython",
    "version": 3
   },
   "file_extension": ".py",
   "mimetype": "text/x-python",
   "name": "python",
   "nbconvert_exporter": "python",
   "pygments_lexer": "ipython3",
   "version": "3.6.4"
  }
 },
 "nbformat": 4,
 "nbformat_minor": 2
}
