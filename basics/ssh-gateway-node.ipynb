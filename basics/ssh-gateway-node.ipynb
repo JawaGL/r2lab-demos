{
 "cells": [
  {
   "cell_type": "markdown",
   "metadata": {},
   "source": [
    "<style>div.title-slide {    width: 100%;    display: flex;    flex-direction: row;            /* default value; can be omitted */    flex-wrap: nowrap;              /* default value; can be omitted */    justify-content: space-between;}</style><div class=\"title-slide\">\n",
    "<span style=\"float:left;\">Licence CC BY-NC-ND</span>\n",
    "<span></span>\n",
    "<span></span>\n",
    "</div>"
   ]
  },
  {
   "cell_type": "markdown",
   "metadata": {},
   "source": [
    "# WARNING\n",
    "\n",
    "### This notebook is currently broken\n",
    "\n",
    "As of beginning of March 2018, this won't work in a notebook; we are exactly in the scope of this issue https://github.com/jupyter/notebook/issues/3397 which has to do with tornado 5.0's loop having been unified with asyncio's."
   ]
  },
  {
   "cell_type": "markdown",
   "metadata": {},
   "source": [
    "# Simplest possible ssh scripts"
   ]
  },
  {
   "cell_type": "markdown",
   "metadata": {},
   "source": [
    "In this notebook we will just run the simplest possible ssh scripts to the R2lab infrastructure:\n",
    "\n",
    "* first simply to the gateway - you need a valid slice name for that to work\n",
    "  * as an aside we also run an X11 command, so that we see how to enable X11 tunnelling.\n",
    "* second on a node that we reach through the gateway"
   ]
  },
  {
   "cell_type": "markdown",
   "metadata": {
    "cell_style": "split"
   },
   "source": [
    "This cell for convenience only, for when the underlying libraries are being modified live."
   ]
  },
  {
   "cell_type": "code",
   "execution_count": null,
   "metadata": {
    "cell_style": "split"
   },
   "outputs": [],
   "source": [
    "%load_ext autoreload\n",
    "%autoreload 2"
   ]
  },
  {
   "cell_type": "code",
   "execution_count": null,
   "metadata": {},
   "outputs": [],
   "source": [
    "from asynciojobs import Scheduler\n",
    "from apssh import SshNode, SshJob, Run"
   ]
  },
  {
   "cell_type": "markdown",
   "metadata": {},
   "source": [
    "### Single leg ssh connection : on `faraday` itself"
   ]
  },
  {
   "cell_type": "code",
   "execution_count": null,
   "metadata": {},
   "outputs": [],
   "source": [
    "slicename = 'inria_r2lab.tutorial'\n",
    "\n",
    "gw = SshNode('faraday.inria.fr', username=slicename)"
   ]
  },
  {
   "cell_type": "markdown",
   "metadata": {},
   "source": [
    "##### single leg simple command"
   ]
  },
  {
   "cell_type": "markdown",
   "metadata": {},
   "source": [
    "We always need at least one scheduler, this is our event loop:"
   ]
  },
  {
   "cell_type": "code",
   "execution_count": null,
   "metadata": {},
   "outputs": [],
   "source": [
    "s = Scheduler()\n",
    "print(s)"
   ]
  },
  {
   "cell_type": "markdown",
   "metadata": {},
   "source": [
    "For this simplest possible scenario we need one `SshJob` instance; it needs to know\n",
    "* on what node it will run\n",
    "* what commands need to run\n",
    "* optionnally in which scheduler - although it can also be added later on"
   ]
  },
  {
   "cell_type": "code",
   "execution_count": null,
   "metadata": {},
   "outputs": [],
   "source": [
    "j = SshJob(node=gw,\n",
    "           command='hostname',\n",
    "           scheduler = s)\n",
    "print(s)"
   ]
  },
  {
   "cell_type": "markdown",
   "metadata": {},
   "source": [
    "The scheduler will run all its jobs until complete:"
   ]
  },
  {
   "cell_type": "code",
   "execution_count": null,
   "metadata": {},
   "outputs": [],
   "source": [
    "s.run()"
   ]
  },
  {
   "cell_type": "code",
   "execution_count": null,
   "metadata": {},
   "outputs": [],
   "source": [
    "print(s)"
   ]
  },
  {
   "cell_type": "markdown",
   "metadata": {},
   "source": [
    "##### single leg, command with X11"
   ]
  },
  {
   "cell_type": "markdown",
   "metadata": {
    "slideshow": {
     "slide_type": "-"
    }
   },
   "source": [
    "If the command needs X11 forwarding, we need to enable that feature. Before we can do that,  note that:"
   ]
  },
  {
   "cell_type": "markdown",
   "metadata": {
    "cell_style": "split"
   },
   "source": [
    "```\n",
    "j = SshJob(\n",
    "    node=gw,\n",
    "    command='hostname',\n",
    "    scheduler = s)\n",
    "```"
   ]
  },
  {
   "cell_type": "markdown",
   "metadata": {
    "cell_style": "split"
   },
   "source": [
    "can also be written, it is *exactly* equivalent, as\n",
    "\n",
    "```\n",
    "j = SshJob(\n",
    "    node=gw,\n",
    "    command=Run('hostname'),\n",
    "    scheduler = s)\n",
    "```"
   ]
  },
  {
   "cell_type": "markdown",
   "metadata": {
    "cell_style": "split"
   },
   "source": [
    "or even:\n",
    "```\n",
    "j = SshJob(\n",
    "    node=gw,\n",
    "    command=[ Run('hostname') ],\n",
    "    scheduler = s)\n",
    "```"
   ]
  },
  {
   "cell_type": "markdown",
   "metadata": {
    "cell_style": "split"
   },
   "source": [
    "Replacing a simple string like `\"hostname\"` with an instance of `Run` allows to define more advanced settings, like `X11=true` that we need here:"
   ]
  },
  {
   "cell_type": "code",
   "execution_count": null,
   "metadata": {},
   "outputs": [],
   "source": [
    "s = Scheduler()\n",
    "jx = SshJob(node=gw, scheduler=s, command=Run('xterm', x11=True))"
   ]
  },
  {
   "cell_type": "code",
   "execution_count": null,
   "metadata": {},
   "outputs": [],
   "source": [
    "s.run()"
   ]
  },
  {
   "cell_type": "markdown",
   "metadata": {},
   "source": [
    "### 2 legs - join a node through the gateway"
   ]
  },
  {
   "cell_type": "markdown",
   "metadata": {},
   "source": [
    "**Note**: The following **assumes that `fit06` has been turned on**."
   ]
  },
  {
   "cell_type": "code",
   "execution_count": null,
   "metadata": {},
   "outputs": [],
   "source": [
    "node = SshNode(\"fit06\", username=\"root\", gateway=gw)"
   ]
  },
  {
   "cell_type": "markdown",
   "metadata": {},
   "source": [
    "##### 2-leg ssh, simple command"
   ]
  },
  {
   "cell_type": "code",
   "execution_count": null,
   "metadata": {
    "cell_style": "split"
   },
   "outputs": [],
   "source": [
    "s = Scheduler()\n",
    "j2 = SshJob(node=node,\n",
    "            command='hostname',\n",
    "            scheduler=s)"
   ]
  },
  {
   "cell_type": "code",
   "execution_count": null,
   "metadata": {
    "cell_style": "split"
   },
   "outputs": [],
   "source": [
    "s.run()"
   ]
  },
  {
   "cell_type": "markdown",
   "metadata": {},
   "source": [
    "##### 2-leg ssh, X11 command"
   ]
  },
  {
   "cell_type": "code",
   "execution_count": null,
   "metadata": {},
   "outputs": [],
   "source": [
    "s = Scheduler()\n",
    "j2 = SshJob(node=node,\n",
    "            command=Run('xterm', x11=True),\n",
    "            scheduler=s)"
   ]
  },
  {
   "cell_type": "code",
   "execution_count": null,
   "metadata": {},
   "outputs": [],
   "source": [
    "s.run()"
   ]
  },
  {
   "cell_type": "markdown",
   "metadata": {},
   "source": [
    "### Using bash-written convenience tools on faraday"
   ]
  },
  {
   "cell_type": "code",
   "execution_count": null,
   "metadata": {},
   "outputs": [],
   "source": [
    "from apssh import RunString"
   ]
  },
  {
   "cell_type": "markdown",
   "metadata": {},
   "source": [
    "#####  Load `/etc/profile.d/faraday.sh`"
   ]
  },
  {
   "cell_type": "markdown",
   "metadata": {
    "cell_style": "center"
   },
   "source": [
    "Here's a trick that will let you use convenience shell tools as in a terminal.\n",
    "\n",
    "You just need to explicitly load the goodies like this:"
   ]
  },
  {
   "cell_type": "code",
   "execution_count": null,
   "metadata": {
    "cell_style": "split"
   },
   "outputs": [],
   "source": [
    "my_script = \"\"\"#!/bin/bash\n",
    "\n",
    "# explicitly load faraday utilities\n",
    "source /etc/profile.d/faraday.sh\n",
    "\n",
    "# now we can use all convenience tools\n",
    "# including selection-based ones\n",
    "\n",
    "n 1-5\n",
    "rstatus\n",
    "\"\"\""
   ]
  },
  {
   "cell_type": "code",
   "execution_count": null,
   "metadata": {
    "cell_style": "split"
   },
   "outputs": [],
   "source": [
    "s = Scheduler()\n",
    "j = SshJob(node=gw,\n",
    "           command=RunString(my_script,\n",
    "                            remote_name = 'foo'),\n",
    "           scheduler = s)\n",
    "s.graph()"
   ]
  },
  {
   "cell_type": "code",
   "execution_count": null,
   "metadata": {},
   "outputs": [],
   "source": [
    "s.run()"
   ]
  },
  {
   "cell_type": "markdown",
   "metadata": {},
   "source": [
    "### Using bash-written convenience tools on nodes"
   ]
  },
  {
   "cell_type": "markdown",
   "metadata": {},
   "source": [
    "With our images, nodes-oriented convenience tools are located in \n",
    "\n",
    "    /etc/profile.d/nodes.sh\n",
    "    \n",
    "and they can be used the same way as above."
   ]
  },
  {
   "cell_type": "markdown",
   "metadata": {},
   "source": [
    "# Embedding the testbed map in a notebook"
   ]
  },
  {
   "cell_type": "code",
   "execution_count": null,
   "metadata": {},
   "outputs": [],
   "source": [
    "from IPython.display import IFrame\n",
    "IFrame('https://r2lab.inria.fr/iframe.md', height=400, width='100%')"
   ]
  }
 ],
 "metadata": {
  "celltoolbar": "Slideshow",
  "kernelspec": {
   "display_name": "Python 3",
   "language": "python",
   "name": "python3"
  },
  "language_info": {
   "codemirror_mode": {
    "name": "ipython",
    "version": 3
   },
   "file_extension": ".py",
   "mimetype": "text/x-python",
   "name": "python",
   "nbconvert_exporter": "python",
   "pygments_lexer": "ipython3",
   "version": "3.6.4"
  },
  "notebookname": "Simplest possible ssh scripts",
  "version": "1.0"
 },
 "nbformat": 4,
 "nbformat_minor": 2
}
